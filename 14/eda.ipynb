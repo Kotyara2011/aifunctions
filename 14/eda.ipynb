# Import libraries
import pandas as pd
import numpy as np
import matplotlib.pyplot as plt
import seaborn as sns

# Load the cleaned data from customer_data.csv
customer_df = pd.read_csv("customer_data.csv")

# Plot the distribution of the target variable (churn)
sns.countplot(x="churn", data=customer_df)
plt.title("Distribution of Churn")
plt.show()

# Plot the distribution of the numeric features
customer_df.hist(figsize=(12,10))
plt.suptitle("Distribution of Numeric Features")
plt.show()

# Plot the distribution of the categorical features
cat_cols = ["gender", "location", "social_media", "survey_response"] # Example categorical columns
fig, axes = plt.subplots(2, 2, figsize=(12,10))
for i, col in enumerate(cat_cols):
    sns.countplot(x=col, hue="churn", data=customer_df, ax=axes[i//2, i%2])
    axes[i//2, i%2].set_title(f"Distribution of {col}")
plt.suptitle("Distribution of Categorical Features")
plt.show()

# Plot the correlation matrix of the features
corr_matrix = customer_df.corr()
sns.heatmap(corr_matrix, annot=True, cmap="RdBu")
plt.title("Correlation Matrix of Features")
plt.show()

# Identify and remove outliers if needed
# For example, use boxplots or z-scores to detect outliers
sns.boxplot(x="churn", y="purchase_history", data=customer_df)
plt.title("Boxplot of Purchase History by Churn")
plt.show()

# Define a function to calculate z-scores
def z_score(df, col):
    mean = df[col].mean()
    std = df[col].std()
    return (df[col] - mean) / std

# Apply the function to the purchase_history column and filter out values that are more than 3 standard deviations away from the mean
customer_df["purchase_history_z"] = z_score(customer_df, "purchase_history")
customer_df = customer_df[abs(customer_df["purchase_history_z"]) < 3]

# Drop the z-score column
customer_df.drop("purchase_history_z", axis=1, inplace=True)

# Save the analysis in a Jupyter notebook named eda.ipynb
# To do this, copy and paste this code in a Jupyter notebook and run it
